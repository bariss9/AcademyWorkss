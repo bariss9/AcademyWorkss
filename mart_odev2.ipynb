{
 "cells": [
  {
   "cell_type": "code",
   "execution_count": 1,
   "id": "24e17741-01b0-40da-b791-894ed4d7a727",
   "metadata": {},
   "outputs": [
    {
     "data": {
      "text/plain": [
       "5"
      ]
     },
     "execution_count": 1,
     "metadata": {},
     "output_type": "execute_result"
    }
   ],
   "source": [
    "a = 5\n",
    "a"
   ]
  },
  {
   "cell_type": "code",
   "execution_count": 2,
   "id": "1c3e6214-a9ee-4bd4-b160-d8548be39a80",
   "metadata": {},
   "outputs": [
    {
     "name": "stdout",
     "output_type": "stream",
     "text": [
      "Collecting numpy\n",
      "  Downloading numpy-2.2.4-cp312-cp312-win_amd64.whl.metadata (60 kB)\n",
      "Downloading numpy-2.2.4-cp312-cp312-win_amd64.whl (12.6 MB)\n",
      "   ---------------------------------------- 0.0/12.6 MB ? eta -:--:--\n",
      "   -------------------- ------------------- 6.6/12.6 MB 40.3 MB/s eta 0:00:01\n",
      "   ---------------------------- ----------- 8.9/12.6 MB 26.4 MB/s eta 0:00:01\n",
      "   ------------------------------------ --- 11.5/12.6 MB 20.1 MB/s eta 0:00:01\n",
      "   ---------------------------------------- 12.6/12.6 MB 18.0 MB/s eta 0:00:00\n",
      "Installing collected packages: numpy\n",
      "Successfully installed numpy-2.2.4\n"
     ]
    }
   ],
   "source": [
    "!pip install numpy\n"
   ]
  },
  {
   "cell_type": "code",
   "execution_count": 3,
   "id": "c5fef7cd-d66b-42fe-aa8c-edaccec222c8",
   "metadata": {},
   "outputs": [],
   "source": [
    "import numpy as np"
   ]
  },
  {
   "cell_type": "markdown",
   "id": "436bf5dd-9495-4f2d-b0ad-d491f44c1bf7",
   "metadata": {},
   "source": [
    "## numpy.zeros()\n",
    "Belirtilen boyutlarda sıfırlardan oluşan bir dizi oluşturur"
   ]
  },
  {
   "cell_type": "code",
   "execution_count": 4,
   "id": "1c71051e-3308-4d40-9f2a-146c2bd61c45",
   "metadata": {},
   "outputs": [
    {
     "data": {
      "text/plain": [
       "array([[0., 0., 0.],\n",
       "       [0., 0., 0.]])"
      ]
     },
     "execution_count": 4,
     "metadata": {},
     "output_type": "execute_result"
    }
   ],
   "source": [
    "arr = np.zeros((2,3))\n",
    "arr"
   ]
  },
  {
   "cell_type": "markdown",
   "id": "676adf39-e9c6-49a4-aa4a-34d3164eda2e",
   "metadata": {},
   "source": [
    "## 2- numpy.ones()\n",
    "Belirtilen boyutlarda birlerden oluşan bir dizi oluşturur"
   ]
  },
  {
   "cell_type": "code",
   "execution_count": 5,
   "id": "fff9c6e3-20f1-48dd-acd0-65dcdde81392",
   "metadata": {},
   "outputs": [
    {
     "data": {
      "text/plain": [
       "array([[1., 1., 1.],\n",
       "       [1., 1., 1.]])"
      ]
     },
     "execution_count": 5,
     "metadata": {},
     "output_type": "execute_result"
    }
   ],
   "source": [
    "arr2 = np.ones((2, 3))\n",
    "arr2"
   ]
  },
  {
   "cell_type": "markdown",
   "id": "e85fff38-a23f-47d1-a607-818454cc51e7",
   "metadata": {},
   "source": [
    "## 3-numpy.linespace()\n",
    "belirtilen başlangıç ve bitiş noktaları arasında eşit aralıklı sayılar oluşturur"
   ]
  },
  {
   "cell_type": "code",
   "execution_count": 7,
   "id": "12dda7e4-f18c-4231-a010-87b7738c1dbe",
   "metadata": {},
   "outputs": [
    {
     "data": {
      "text/plain": [
       "array([ 0. ,  2.5,  5. ,  7.5, 10. ])"
      ]
     },
     "execution_count": 7,
     "metadata": {},
     "output_type": "execute_result"
    }
   ],
   "source": [
    "arr3 = np.linspace(0, 10, 5)\n",
    "arr3"
   ]
  },
  {
   "cell_type": "markdown",
   "id": "cb45bbdb-74d0-420f-824f-20607e7ccca6",
   "metadata": {},
   "source": [
    "## 4- numpy.mean()\n",
    "bir dizinin ortalamasını almamızı sağlar"
   ]
  },
  {
   "cell_type": "code",
   "execution_count": 10,
   "id": "6d5ceb5e-1570-4790-8a48-234c49abd023",
   "metadata": {},
   "outputs": [
    {
     "name": "stdout",
     "output_type": "stream",
     "text": [
      "3.0\n"
     ]
    }
   ],
   "source": [
    "arr4 = np.array([1, 2, 3, 4, 5])\n",
    "mean = np.mean(arr4)\n",
    "print(mean)"
   ]
  },
  {
   "cell_type": "markdown",
   "id": "f0225f55-e70e-46da-8971-7c60983caee9",
   "metadata": {},
   "source": [
    "## 5- numpy.sum()\n",
    "bir dizideki tüm elemanların toplamını hesaplamaya yardımcı olur"
   ]
  },
  {
   "cell_type": "code",
   "execution_count": 12,
   "id": "86129943-603a-4526-99b7-90d0f7e48244",
   "metadata": {},
   "outputs": [
    {
     "name": "stdout",
     "output_type": "stream",
     "text": [
      "15\n"
     ]
    }
   ],
   "source": [
    "arr5 = np.array([1, 2, 3, 4, 5])\n",
    "summ = np.sum(arr5)\n",
    "print(summ)"
   ]
  },
  {
   "cell_type": "markdown",
   "id": "56ad173b-d917-4f4c-817c-4345fff793a6",
   "metadata": {},
   "source": [
    "## 6- numpy.reshape()\n",
    "bir dizinin şeklini değiştirmeye yardım eder"
   ]
  },
  {
   "cell_type": "code",
   "execution_count": 15,
   "id": "3ff4d401-448c-4878-a206-48a33d0762bd",
   "metadata": {},
   "outputs": [
    {
     "data": {
      "text/plain": [
       "array([[0., 0., 0.],\n",
       "       [0., 0., 0.]])"
      ]
     },
     "execution_count": 15,
     "metadata": {},
     "output_type": "execute_result"
    }
   ],
   "source": [
    "arr6 = np.array([1, 2, 3, 4, 5, 6])\n",
    "reshaped = np.reshape(arr, (2, 3))\n",
    "reshaped"
   ]
  },
  {
   "cell_type": "markdown",
   "id": "a31d3164-3c72-4321-a49b-89b7d22b1f58",
   "metadata": {},
   "source": [
    "## 7- numpy.max()\n",
    "bir dizideki en büyük değeri bulmaya yardımcı olur"
   ]
  },
  {
   "cell_type": "code",
   "execution_count": 17,
   "id": "0692f4a8-88a7-4c95-8683-8cc90fc27935",
   "metadata": {},
   "outputs": [
    {
     "name": "stdout",
     "output_type": "stream",
     "text": [
      "5\n"
     ]
    }
   ],
   "source": [
    "arr7 = np.array([1, 2, 3, 4, 5])\n",
    "maxx = np.max(arr7)\n",
    "print(maxx)"
   ]
  },
  {
   "cell_type": "markdown",
   "id": "d25e9d07-3272-4fe1-a1cf-ab05ee11cad2",
   "metadata": {},
   "source": [
    "## 8- numpy.dot()\n",
    "iki dizinin dot productunu bulmamıza olanak sağlar"
   ]
  },
  {
   "cell_type": "code",
   "execution_count": 19,
   "id": "ee503dde-2f09-4ea8-a8c3-20778c77d7c2",
   "metadata": {},
   "outputs": [
    {
     "name": "stdout",
     "output_type": "stream",
     "text": [
      "11\n"
     ]
    }
   ],
   "source": [
    "arr81 = np.array([1, 2])\n",
    "arr82 = np.array([3, 4])\n",
    "dot_product = np.dot(arr81, arr82)\n",
    "print(dot_product)"
   ]
  },
  {
   "cell_type": "markdown",
   "id": "50f87d39-d67c-4ba2-a897-eb3b1d95d553",
   "metadata": {},
   "source": [
    "## 9-numpy.sort()\n",
    "bir diziyi sıralamaya olanak sağlar"
   ]
  },
  {
   "cell_type": "code",
   "execution_count": 21,
   "id": "89e26416-0ebe-48cb-9cc5-ce9a1c81847f",
   "metadata": {},
   "outputs": [
    {
     "name": "stdout",
     "output_type": "stream",
     "text": [
      "[  5  12  14  92 323]\n"
     ]
    }
   ],
   "source": [
    "arr9 = np.array([12, 92, 323, 14, 5])\n",
    "sortedd = np.sort(arr9)\n",
    "print(sortedd)"
   ]
  },
  {
   "cell_type": "markdown",
   "id": "b80d46da-26bc-490e-a1de-96136e9ef8cf",
   "metadata": {},
   "source": [
    "## 10- numpy.all()\n",
    "bir dizinin tüm elemanlarının belirli bir koşulu sağladığını kontrol eder"
   ]
  },
  {
   "cell_type": "code",
   "execution_count": 25,
   "id": "8537ff66-f740-42d9-be73-e40741907398",
   "metadata": {},
   "outputs": [
    {
     "name": "stdout",
     "output_type": "stream",
     "text": [
      "False\n"
     ]
    }
   ],
   "source": [
    "arr10 = np.array([True, True, False])\n",
    "result = np.all(arr)\n",
    "print(result)\n"
   ]
  },
  {
   "cell_type": "code",
   "execution_count": null,
   "id": "9385dc99-0122-43b1-ab80-352fe48b1b38",
   "metadata": {},
   "outputs": [],
   "source": []
  }
 ],
 "metadata": {
  "kernelspec": {
   "display_name": "Python 3 (ipykernel)",
   "language": "python",
   "name": "python3"
  },
  "language_info": {
   "codemirror_mode": {
    "name": "ipython",
    "version": 3
   },
   "file_extension": ".py",
   "mimetype": "text/x-python",
   "name": "python",
   "nbconvert_exporter": "python",
   "pygments_lexer": "ipython3",
   "version": "3.12.9"
  }
 },
 "nbformat": 4,
 "nbformat_minor": 5
}
